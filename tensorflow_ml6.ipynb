{
  "nbformat": 4,
  "nbformat_minor": 0,
  "metadata": {
    "colab": {
      "name": "tensorflow_ml6.ipynb",
      "version": "0.3.2",
      "provenance": [],
      "collapsed_sections": [],
      "include_colab_link": true
    },
    "kernelspec": {
      "name": "python3",
      "display_name": "Python 3"
    },
    "accelerator": "GPU"
  },
  "cells": [
    {
      "cell_type": "markdown",
      "metadata": {
        "id": "view-in-github",
        "colab_type": "text"
      },
      "source": [
        "<a href=\"https://colab.research.google.com/github/ramapriyakj/ML6/blob/master/tensorflow_ml6.ipynb\" target=\"_parent\"><img src=\"https://colab.research.google.com/assets/colab-badge.svg\" alt=\"Open In Colab\"/></a>"
      ]
    },
    {
      "cell_type": "code",
      "metadata": {
        "id": "nOrpsuYIUHjP",
        "colab_type": "code",
        "colab": {}
      },
      "source": [
        "from google.colab import drive\n",
        "drive.mount('/content/gdrive', force_remount=True)\n",
        "root_dir = \"/content/gdrive/My Drive/\"\n",
        "data_set_dir = root_dir + 'Colab Notebooks/dataset/data/'"
      ],
      "execution_count": 0,
      "outputs": []
    },
    {
      "cell_type": "code",
      "metadata": {
        "id": "kfRPgaTvVW0U",
        "colab_type": "code",
        "colab": {}
      },
      "source": [
        "import os\n",
        "import cv2\n",
        "import numpy as np\n",
        "\n",
        "def create_data_with_labels(image_dir):\n",
        "    \"\"\"Gets numpy data and label array from images that are in the folders that are\n",
        "    in the folder which was given as a parameter. The folders that are in that folder\n",
        "    are identified by the mug they represent and the folder name starts with the label.\"\"\"\n",
        "    mug_dirs = [f for f in os.listdir(image_dir) if not f.startswith('.')]\n",
        "    mug_files = []\n",
        "\n",
        "    for mug_dir in mug_dirs:\n",
        "        mug_image_files = [image_dir + mug_dir + '/' + '{0}'.format(f)\n",
        "                           for f in os.listdir(image_dir + mug_dir) if not f.startswith('.')]\n",
        "        mug_files += [mug_image_files]\n",
        "\n",
        "    num_images = len(mug_files[0])\n",
        "    images_np_arr = np.empty([len(mug_files), num_images, 64, 64, 3], dtype=np.float32)\n",
        "\n",
        "    for mug, _ in enumerate(mug_files):\n",
        "        for mug_image in range(num_images):\n",
        "            img = cv2.imread(mug_files[mug][mug_image])\n",
        "            img = cv2.cvtColor(img, cv2.COLOR_BGR2RGB)\n",
        "            img = img.astype(np.float32)\n",
        "            images_np_arr[mug][mug_image] = img / 255.\n",
        "\n",
        "    data = images_np_arr[0]\n",
        "    labels = np.full(num_images, int(mug_dirs[0][0]))\n",
        "\n",
        "    for i in range(1, len(mug_dirs)):\n",
        "        data = np.append(data, images_np_arr[i], axis=0)\n",
        "        labels = np.append(labels, np.full(num_images, int(mug_dirs[i][0])), axis=0)\n",
        "\n",
        "    return data, labels"
      ],
      "execution_count": 0,
      "outputs": []
    },
    {
      "cell_type": "code",
      "metadata": {
        "id": "n0B2_LhutgVu",
        "colab_type": "code",
        "colab": {
          "base_uri": "https://localhost:8080/",
          "height": 51
        },
        "outputId": "c25a091e-da15-4b36-b0f3-bcda001e1c67"
      },
      "source": [
        "def read_train_data():\n",
        "  global train_data\n",
        "  global train_labels  \n",
        "  (train_data, train_labels) = create_data_with_labels(data_set_dir+\"train/\")\n",
        "  print(\"Train \",train_data.shape,train_labels.shape)\n",
        "\n",
        "def read_eval_data():\n",
        "  global eval_data\n",
        "  global eval_labels\n",
        "  (eval_data, eval_labels) = create_data_with_labels(data_set_dir+\"test/\")\n",
        "  print(\"Eval \",eval_data.shape,eval_labels.shape)\n",
        "  \n",
        "read_train_data()\n",
        "read_eval_data()"
      ],
      "execution_count": 3,
      "outputs": [
        {
          "output_type": "stream",
          "text": [
            "Train  (2000, 64, 64, 3) (2000,)\n",
            "Eval  (1000, 64, 64, 3) (1000,)\n"
          ],
          "name": "stdout"
        }
      ]
    },
    {
      "cell_type": "code",
      "metadata": {
        "id": "rEwf6xWEADSo",
        "colab_type": "code",
        "colab": {}
      },
      "source": [
        "import matplotlib.pyplot as plt\n",
        "\n",
        "def printResults(history):\n",
        "  loss = history['loss']\n",
        "  accuracy = history['accuracy']\n",
        "  epochs = range(len(loss))\n",
        "  \n",
        "  plt.figure()\n",
        "  plt.plot(epochs, loss, 'b', label='loss')\n",
        "  plt.title('loss')\n",
        "  plt.show()\n",
        "  \n",
        "  plt.figure()\n",
        "  plt.plot(epochs, accuracy, 'b', label='accuracy')\n",
        "  plt.title('accuracy')\n",
        "  plt.show()"
      ],
      "execution_count": 0,
      "outputs": []
    },
    {
      "cell_type": "code",
      "metadata": {
        "id": "ZbiTIq1xVj_f",
        "colab_type": "code",
        "colab": {}
      },
      "source": [
        "\"\"\"This file contains all the model information: the training steps, the batch size and the model iself.\"\"\"\n",
        "import math\n",
        "import tensorflow as tf\n",
        "\n",
        "def get_training_steps():\n",
        "    \"\"\"Returns the number of batches that will be used to train your solution.\n",
        "    It is recommended to change this value.\"\"\"\n",
        "    return 3000\n",
        "\n",
        "def get_batch_size():\n",
        "    \"\"\"Returns the batch size that will be used by your solution.\n",
        "    It is recommended to change this value.\"\"\"\n",
        "    return 40\n",
        "\t\n",
        "def getModel(features):\n",
        "  # Input Layer (a batch of images that have 64x64 pixels and are RGB colored (3)\n",
        "  model = tf.reshape(features[\"x\"], [-1, 64, 64, 3])\n",
        "  \n",
        "  model = tf.layers.Conv2D(32,1,activation=tf.nn.relu)(model)\n",
        "  model = tf.layers.Conv2D(32,1,activation=tf.nn.relu)(model)\n",
        "  model = tf.layers.MaxPooling2D(3,3)(model)\n",
        "  \n",
        "  model = tf.layers.Conv2D(32,2,activation=tf.nn.relu)(model)\n",
        "  model = tf.layers.Conv2D(32,2,activation=tf.nn.relu)(model)\n",
        "  model = tf.layers.MaxPooling2D(3,3)(model)\n",
        "  \n",
        "  model = tf.layers.Conv2D(32,1,activation=tf.nn.relu)(model)\n",
        "  model = tf.layers.Conv2D(32,1,activation=tf.nn.relu)(model)\n",
        "  model = tf.layers.MaxPooling2D(3,3)(model)\n",
        "  \n",
        "  model = tf.layers.Flatten()(model)\n",
        "  \n",
        "  model = tf.layers.Dense(512,activation=tf.nn.relu)(model)\n",
        "  model = tf.layers.Dropout(0.4)(model)\n",
        "  \n",
        "  model = tf.layers.Dense(128,activation=tf.nn.relu)(model)\n",
        "  model = tf.layers.Dropout(0.1)(model)\n",
        "  \n",
        "  model = tf.layers.Dense(64,activation=tf.nn.relu)(model)\n",
        "  model = tf.layers.Dropout(0.1)(model)\n",
        "  \n",
        "  model = tf.layers.Dense(4)(model)\n",
        "  return model\n",
        "\n",
        "def solution(features, labels, mode):\n",
        "\n",
        "    logits = getModel(features)\n",
        "    \n",
        "    predictions = {\n",
        "      \"classes\": tf.argmax(input=logits, axis=1),\n",
        "      \"probabilities\": tf.nn.softmax(logits, name=\"softmax_tensor\")\n",
        "    }\n",
        "        \n",
        "    if mode == tf.estimator.ModeKeys.PREDICT:\n",
        "      return tf.estimator.EstimatorSpec(mode=mode,predictions=predictions)\n",
        "    \n",
        "    loss = tf.losses.sparse_softmax_cross_entropy(labels=labels, logits=logits)\n",
        "\t\t\n",
        "    if mode == tf.estimator.ModeKeys.TRAIN:\n",
        "        optimizer = tf.contrib.opt.AdamWOptimizer(0.001)\n",
        "        train_op = optimizer.minimize(loss=loss,global_step=tf.train.get_global_step())\n",
        "        return tf.estimator.EstimatorSpec(mode=mode, loss=loss, train_op=train_op)\n",
        "      \n",
        "    eval_metric_ops = {\"accuracy\": tf.metrics.accuracy(labels=labels, predictions=predictions[\"classes\"])}\n",
        "\n",
        "    if mode == tf.estimator.ModeKeys.EVAL:\n",
        "        return tf.estimator.EstimatorSpec(mode=mode,loss=loss,eval_metric_ops=eval_metric_ops)"
      ],
      "execution_count": 0,
      "outputs": []
    },
    {
      "cell_type": "code",
      "metadata": {
        "id": "OpMHe2AMWCEx",
        "colab_type": "code",
        "colab": {
          "base_uri": "https://localhost:8080/",
          "height": 1055
        },
        "outputId": "b8ce2603-3afe-444b-f5dc-6204e32b15c3"
      },
      "source": [
        "import argparse\n",
        "import os\n",
        "import tensorflow as tf\n",
        "from tensorflow.contrib.training.python.training import hparam\n",
        "from keras.preprocessing.image import ImageDataGenerator\n",
        "\n",
        "def train_input_fn():\n",
        "  x,y = next(train_generator)\n",
        "  return {\"x\":x},y\n",
        "\n",
        "def train_model(params):\n",
        "    global train_generator \n",
        "    batch_size=get_batch_size()\n",
        "    train_datagen = ImageDataGenerator(width_shift_range=0.4,height_shift_range=0.4,shear_range=0.1,zoom_range=0.1,fill_mode='nearest')\n",
        "    train_generator = train_datagen.flow(train_data,train_labels,batch_size=batch_size)\n",
        "    \n",
        "    eval_input_fn = tf.estimator.inputs.numpy_input_fn(\n",
        "        x={\"x\": eval_data},\n",
        "        y=eval_labels,\n",
        "        num_epochs=1,\n",
        "        shuffle=False)\n",
        "\n",
        "    estimator = tf.estimator.Estimator(model_fn=solution)\n",
        "\n",
        "    steps_per_eval = int(get_training_steps() / params.eval_steps)\n",
        "    \n",
        "    history = {}\n",
        "    history[\"loss\"] = []\n",
        "    history[\"accuracy\"]= []\n",
        "    for _ in range(params.eval_steps):\n",
        "        estimator.train(train_input_fn, steps=steps_per_eval)\n",
        "        eval_results = estimator.evaluate(eval_input_fn)\n",
        "        print(eval_results)\n",
        "        history[\"loss\"].append(eval_results[\"loss\"])\n",
        "        history[\"accuracy\"].append(eval_results[\"accuracy\"])\n",
        "    printResults(history)\n",
        "        \n",
        "class pp:\n",
        "  eval_steps = 30\n",
        "\n",
        "tf.logging.set_verbosity('ERROR')\n",
        "HPARAMS = pp()\n",
        "train_model(HPARAMS)"
      ],
      "execution_count": 13,
      "outputs": [
        {
          "output_type": "stream",
          "text": [
            "{'accuracy': 0.53, 'loss': 3.8892272, 'global_step': 100}\n",
            "{'accuracy': 0.534, 'loss': 2.256595, 'global_step': 200}\n",
            "{'accuracy': 0.635, 'loss': 1.7955741, 'global_step': 300}\n",
            "{'accuracy': 0.584, 'loss': 1.5113015, 'global_step': 400}\n",
            "{'accuracy': 0.487, 'loss': 2.9180732, 'global_step': 500}\n",
            "{'accuracy': 0.549, 'loss': 1.7958324, 'global_step': 600}\n",
            "{'accuracy': 0.629, 'loss': 1.5966076, 'global_step': 700}\n",
            "{'accuracy': 0.706, 'loss': 0.8463258, 'global_step': 800}\n",
            "{'accuracy': 0.699, 'loss': 1.0913227, 'global_step': 900}\n",
            "{'accuracy': 0.741, 'loss': 0.95179796, 'global_step': 1000}\n",
            "{'accuracy': 0.717, 'loss': 1.3119665, 'global_step': 1100}\n",
            "{'accuracy': 0.636, 'loss': 1.299149, 'global_step': 1200}\n",
            "{'accuracy': 0.723, 'loss': 0.80536056, 'global_step': 1300}\n",
            "{'accuracy': 0.705, 'loss': 0.9266562, 'global_step': 1400}\n",
            "{'accuracy': 0.699, 'loss': 0.8223446, 'global_step': 1500}\n",
            "{'accuracy': 0.638, 'loss': 1.3152076, 'global_step': 1600}\n",
            "{'accuracy': 0.689, 'loss': 1.932455, 'global_step': 1700}\n",
            "{'accuracy': 0.619, 'loss': 2.1743863, 'global_step': 1800}\n",
            "{'accuracy': 0.757, 'loss': 1.3610891, 'global_step': 1900}\n",
            "{'accuracy': 0.606, 'loss': 1.5418191, 'global_step': 2000}\n",
            "{'accuracy': 0.593, 'loss': 1.4269806, 'global_step': 2100}\n",
            "{'accuracy': 0.515, 'loss': 2.3423078, 'global_step': 2200}\n",
            "{'accuracy': 0.539, 'loss': 1.8647842, 'global_step': 2300}\n",
            "{'accuracy': 0.742, 'loss': 0.6014105, 'global_step': 2400}\n",
            "{'accuracy': 0.64, 'loss': 1.948422, 'global_step': 2500}\n",
            "{'accuracy': 0.661, 'loss': 1.2274029, 'global_step': 2600}\n",
            "{'accuracy': 0.75, 'loss': 0.71034855, 'global_step': 2700}\n",
            "{'accuracy': 0.76, 'loss': 0.5424447, 'global_step': 2800}\n",
            "{'accuracy': 0.746, 'loss': 0.73875475, 'global_step': 2900}\n",
            "{'accuracy': 0.678, 'loss': 0.9047382, 'global_step': 3000}\n"
          ],
          "name": "stdout"
        },
        {
          "output_type": "display_data",
          "data": {
            "image/png": "[encoded data removed]",
            "text/plain": [
              "<Figure size 432x288 with 1 Axes>"
            ]
          },
          "metadata": {
            "tags": []
          }
        },
        {
          "output_type": "display_data",
          "data": {
            "image/png": "[encoded data removed]",
            "text/plain": [
              "<Figure size 432x288 with 1 Axes>"
            ]
          },
          "metadata": {
            "tags": []
          }
        }
      ]
    }
  ]
}