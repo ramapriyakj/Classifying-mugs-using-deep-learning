{
  "nbformat": 4,
  "nbformat_minor": 0,
  "metadata": {
    "colab": {
      "name": "tensorflow_ml6.ipynb",
      "version": "0.3.2",
      "provenance": [],
      "collapsed_sections": [],
      "include_colab_link": true
    },
    "kernelspec": {
      "name": "python3",
      "display_name": "Python 3"
    },
    "accelerator": "GPU"
  },
  "cells": [
    {
      "cell_type": "markdown",
      "metadata": {
        "id": "view-in-github",
        "colab_type": "text"
      },
      "source": [
        "<a href=\"https://colab.research.google.com/github/ramapriyakj/ML6/blob/master/tensorflow_ml6.ipynb\" target=\"_parent\"><img src=\"https://colab.research.google.com/assets/colab-badge.svg\" alt=\"Open In Colab\"/></a>"
      ]
    },
    {
      "cell_type": "code",
      "metadata": {
        "id": "nOrpsuYIUHjP",
        "colab_type": "code",
        "outputId": "50a12ca9-e164-494a-de02-8e4ae3d007a6",
        "colab": {
          "base_uri": "https://localhost:8080/",
          "height": 34
        }
      },
      "source": [
        "from google.colab import drive\n",
        "drive.mount('/content/gdrive', force_remount=True)\n",
        "root_dir = \"/content/gdrive/My Drive/\"\n",
        "data_set_dir = root_dir + 'Colab Notebooks/dataset/data/'"
      ],
      "execution_count": 1,
      "outputs": [
        {
          "output_type": "stream",
          "text": [
            "Mounted at /content/gdrive\n"
          ],
          "name": "stdout"
        }
      ]
    },
    {
      "cell_type": "code",
      "metadata": {
        "id": "kfRPgaTvVW0U",
        "colab_type": "code",
        "colab": {}
      },
      "source": [
        "import os\n",
        "import cv2\n",
        "import numpy as np\n",
        "\n",
        "def create_data_with_labels(image_dir):\n",
        "    \"\"\"Gets numpy data and label array from images that are in the folders that are\n",
        "    in the folder which was given as a parameter. The folders that are in that folder\n",
        "    are identified by the mug they represent and the folder name starts with the label.\"\"\"\n",
        "    mug_dirs = [f for f in os.listdir(image_dir) if not f.startswith('.')]\n",
        "    mug_files = []\n",
        "\n",
        "    for mug_dir in mug_dirs:\n",
        "        mug_image_files = [image_dir + mug_dir + '/' + '{0}'.format(f)\n",
        "                           for f in os.listdir(image_dir + mug_dir) if not f.startswith('.')]\n",
        "        mug_files += [mug_image_files]\n",
        "\n",
        "    num_images = len(mug_files[0])\n",
        "    images_np_arr = np.empty([len(mug_files), num_images, 64, 64, 3], dtype=np.float32)\n",
        "\n",
        "    for mug, _ in enumerate(mug_files):\n",
        "        for mug_image in range(num_images):\n",
        "            img = cv2.imread(mug_files[mug][mug_image])\n",
        "            img = cv2.cvtColor(img, cv2.COLOR_BGR2RGB)\n",
        "            img = img.astype(np.float32)\n",
        "            images_np_arr[mug][mug_image] = img / 255.\n",
        "\n",
        "    data = images_np_arr[0]\n",
        "    labels = np.full(num_images, int(mug_dirs[0][0]))\n",
        "\n",
        "    for i in range(1, len(mug_dirs)):\n",
        "        data = np.append(data, images_np_arr[i], axis=0)\n",
        "        labels = np.append(labels, np.full(num_images, int(mug_dirs[i][0])), axis=0)\n",
        "\n",
        "    return data, labels"
      ],
      "execution_count": 0,
      "outputs": []
    },
    {
      "cell_type": "code",
      "metadata": {
        "id": "n0B2_LhutgVu",
        "colab_type": "code",
        "outputId": "6bd97c43-2f0a-4713-a25b-11430e9fe70a",
        "colab": {
          "base_uri": "https://localhost:8080/",
          "height": 51
        }
      },
      "source": [
        "def read_train_data():\n",
        "  global train_data\n",
        "  global train_labels  \n",
        "  (train_data, train_labels) = create_data_with_labels(data_set_dir+\"train/\")\n",
        "  print(\"Train \",train_data.shape,train_labels.shape)\n",
        "\n",
        "def read_eval_data():\n",
        "  global eval_data\n",
        "  global eval_labels\n",
        "  (eval_data, eval_labels) = create_data_with_labels(data_set_dir+\"test/\")\n",
        "  print(\"Eval \",eval_data.shape,eval_labels.shape)\n",
        "  \n",
        "read_train_data()\n",
        "read_eval_data()"
      ],
      "execution_count": 3,
      "outputs": [
        {
          "output_type": "stream",
          "text": [
            "Train  (2000, 64, 64, 3) (2000,)\n",
            "Eval  (1000, 64, 64, 3) (1000,)\n"
          ],
          "name": "stdout"
        }
      ]
    },
    {
      "cell_type": "code",
      "metadata": {
        "id": "rEwf6xWEADSo",
        "colab_type": "code",
        "colab": {}
      },
      "source": [
        "import matplotlib.pyplot as plt\n",
        "\n",
        "def printResults(history):\n",
        "  loss = history['loss']\n",
        "  accuracy = history['accuracy']\n",
        "  epochs = range(len(loss))\n",
        "  \n",
        "  plt.figure()\n",
        "  plt.plot(epochs, loss, 'b', label='loss')\n",
        "  plt.title('loss')\n",
        "  plt.show()\n",
        "  \n",
        "  plt.figure()\n",
        "  plt.plot(epochs, accuracy, 'b', label='accuracy')\n",
        "  plt.title('accuracy')\n",
        "  plt.show()"
      ],
      "execution_count": 0,
      "outputs": []
    },
    {
      "cell_type": "code",
      "metadata": {
        "id": "ZbiTIq1xVj_f",
        "colab_type": "code",
        "colab": {}
      },
      "source": [
        "\"\"\"This file contains all the model information: the training steps, the batch size and the model iself.\"\"\"\n",
        "import math\n",
        "import tensorflow as tf\n",
        "\n",
        "def get_training_steps():\n",
        "    \"\"\"Returns the number of batches that will be used to train your solution.\n",
        "    It is recommended to change this value.\"\"\"\n",
        "    return 3000\n",
        "\n",
        "def get_batch_size():\n",
        "    \"\"\"Returns the batch size that will be used by your solution.\n",
        "    It is recommended to change this value.\"\"\"\n",
        "    return 20\n",
        "\t\n",
        "def getModel(features):\n",
        "  # Input Layer (a batch of images that have 64x64 pixels and are RGB colored (3)\n",
        "  model = tf.reshape(features[\"x\"], [-1, 64, 64, 3])\n",
        "  \n",
        "  model = tf.layers.Conv2D(128,3,activation=tf.nn.relu)(model)\n",
        "  model = tf.layers.Conv2D(128,3,activation=tf.nn.relu)(model)\n",
        "  model = tf.layers.MaxPooling2D(2,2)(model)\n",
        "  \n",
        "  model = tf.layers.Conv2D(32,1,activation=tf.nn.relu)(model)\n",
        "  model = tf.layers.Conv2D(32,1,activation=tf.nn.relu)(model)\n",
        "  model = tf.layers.MaxPooling2D(2,2)(model)\n",
        "  \n",
        "  model = tf.layers.Conv2D(32,2,activation=tf.nn.relu)(model)\n",
        "  model = tf.layers.Conv2D(32,2,activation=tf.nn.relu)(model)\n",
        "  model = tf.layers.MaxPooling2D(2,2)(model)\n",
        "  \n",
        "  model = tf.layers.Conv2D(32,1,activation=tf.nn.relu)(model)\n",
        "  model = tf.layers.Conv2D(32,1,activation=tf.nn.relu)(model)\n",
        "  model = tf.layers.MaxPooling2D(2,2)(model)\n",
        "  \n",
        "  model = tf.layers.Flatten()(model)\n",
        "  \n",
        "  model = tf.layers.Dense(512,activation=tf.nn.relu)(model)\n",
        "  model = tf.layers.Dropout(0.4)(model)\n",
        "  \n",
        "  model = tf.layers.Dense(128,activation=tf.nn.relu)(model)\n",
        "  model = tf.layers.Dropout(0.1)(model)\n",
        "  \n",
        "  model = tf.layers.Dense(64,activation=tf.nn.relu)(model)\n",
        "  model = tf.layers.Dropout(0.1)(model)\n",
        "  \n",
        "  model = tf.layers.Dense(4)(model)\n",
        "  return model\n",
        "\n",
        "def solution(features, labels, mode):\n",
        "    logits = getModel(features)\n",
        "    \n",
        "    predictions = {\n",
        "      \"classes\": tf.argmax(input=logits, axis=1),\n",
        "      \"probabilities\": tf.nn.softmax(logits, name=\"softmax_tensor\")\n",
        "    }\n",
        "        \n",
        "    if mode == tf.estimator.ModeKeys.PREDICT:\n",
        "      return tf.estimator.EstimatorSpec(mode=mode,predictions=predictions)\n",
        "    \n",
        "    loss = tf.losses.sparse_softmax_cross_entropy(labels=labels, logits=logits)\n",
        "\t\t\n",
        "    if mode == tf.estimator.ModeKeys.TRAIN:\n",
        "        optimizer = tf.contrib.opt.AdamWOptimizer(0.001)\n",
        "        train_op = optimizer.minimize(loss=loss,global_step=tf.train.get_global_step())\n",
        "        return tf.estimator.EstimatorSpec(mode=mode, loss=loss, train_op=train_op)\n",
        "      \n",
        "    eval_metric_ops = {\"accuracy\": tf.metrics.accuracy(labels=labels, predictions=predictions[\"classes\"])}\n",
        "\n",
        "    if mode == tf.estimator.ModeKeys.EVAL:\n",
        "        return tf.estimator.EstimatorSpec(mode=mode,loss=loss,eval_metric_ops=eval_metric_ops)"
      ],
      "execution_count": 0,
      "outputs": []
    },
    {
      "cell_type": "code",
      "metadata": {
        "id": "OpMHe2AMWCEx",
        "colab_type": "code",
        "outputId": "ebbbdbe3-4397-44b8-a73f-82b8b0199550",
        "colab": {
          "base_uri": "https://localhost:8080/",
          "height": 1106
        }
      },
      "source": [
        "import argparse\n",
        "import os\n",
        "import tensorflow as tf\n",
        "from tensorflow.contrib.training.python.training import hparam\n",
        "from keras.preprocessing.image import ImageDataGenerator\n",
        "\n",
        "def train_model(params):\n",
        "  \n",
        "    size = len(train_data)\n",
        "    total_size = get_training_steps()*get_batch_size()    \n",
        "    print(\"Size = \",size,\",total_size = \",total_size)\n",
        "    \n",
        "    train_datagen = ImageDataGenerator(width_shift_range=0.4,height_shift_range=0.4,shear_range=0.2,zoom_range=0.1,channel_shift_range=0.2,fill_mode='nearest')\n",
        "    train_generator = train_datagen.flow(train_data,train_labels,batch_size=size)\n",
        "    \n",
        "    td,tl = next(train_generator)\n",
        "    i = size\n",
        "    while i < total_size:\n",
        "        next_td,next_tl = next(train_generator)\n",
        "        td = np.concatenate([td,next_td])\n",
        "        tl = np.concatenate([tl,next_tl])\n",
        "        i += size\n",
        "        print(i,td.shape,tl.shape)\n",
        "        \n",
        "    print(\"The shape is :\",td.shape,tl.shape)\n",
        "    \n",
        "    train_input_fn = tf.estimator.inputs.numpy_input_fn(\n",
        "        x={\"x\": td},\n",
        "        y=tl,\n",
        "        batch_size=get_batch_size(),\n",
        "        num_epochs=None,\n",
        "        shuffle=True)\n",
        "    \n",
        "    eval_input_fn = tf.estimator.inputs.numpy_input_fn(\n",
        "        x={\"x\": eval_data},\n",
        "        y=eval_labels,\n",
        "        num_epochs=1,\n",
        "        shuffle=False)\n",
        "\n",
        "    estimator = tf.estimator.Estimator(model_fn=solution)\n",
        "\n",
        "    steps_per_eval = int(get_training_steps() / params.eval_steps)\n",
        "    \n",
        "    history = {}\n",
        "    history[\"loss\"] = []\n",
        "    history[\"accuracy\"]= []\n",
        "    for _ in range(params.eval_steps):\n",
        "        estimator.train(train_input_fn, steps=steps_per_eval)\n",
        "        eval_results = estimator.evaluate(eval_input_fn)\n",
        "        print(eval_results)\n",
        "        history[\"loss\"].append(eval_results[\"loss\"])\n",
        "        history[\"accuracy\"].append(eval_results[\"accuracy\"])\n",
        "    printResults(history)\n",
        "        \n",
        "class pp:\n",
        "  eval_steps = 1\n",
        "\n",
        "tf.logging.set_verbosity('ERROR')\n",
        "HPARAMS = pp()\n",
        "train_model(HPARAMS)"
      ],
      "execution_count": 6,
      "outputs": [
        {
          "output_type": "stream",
          "text": [
            "Using TensorFlow backend.\n"
          ],
          "name": "stderr"
        },
        {
          "output_type": "stream",
          "text": [
            "Size =  2000 ,total_size =  60000\n",
            "4000 (4000, 64, 64, 3) (4000,)\n",
            "6000 (6000, 64, 64, 3) (6000,)\n",
            "8000 (8000, 64, 64, 3) (8000,)\n",
            "10000 (10000, 64, 64, 3) (10000,)\n",
            "12000 (12000, 64, 64, 3) (12000,)\n",
            "14000 (14000, 64, 64, 3) (14000,)\n",
            "16000 (16000, 64, 64, 3) (16000,)\n",
            "18000 (18000, 64, 64, 3) (18000,)\n",
            "20000 (20000, 64, 64, 3) (20000,)\n",
            "22000 (22000, 64, 64, 3) (22000,)\n",
            "24000 (24000, 64, 64, 3) (24000,)\n",
            "26000 (26000, 64, 64, 3) (26000,)\n",
            "28000 (28000, 64, 64, 3) (28000,)\n",
            "30000 (30000, 64, 64, 3) (30000,)\n",
            "32000 (32000, 64, 64, 3) (32000,)\n",
            "34000 (34000, 64, 64, 3) (34000,)\n",
            "36000 (36000, 64, 64, 3) (36000,)\n",
            "38000 (38000, 64, 64, 3) (38000,)\n",
            "40000 (40000, 64, 64, 3) (40000,)\n",
            "42000 (42000, 64, 64, 3) (42000,)\n",
            "44000 (44000, 64, 64, 3) (44000,)\n",
            "46000 (46000, 64, 64, 3) (46000,)\n",
            "48000 (48000, 64, 64, 3) (48000,)\n",
            "50000 (50000, 64, 64, 3) (50000,)\n",
            "52000 (52000, 64, 64, 3) (52000,)\n",
            "54000 (54000, 64, 64, 3) (54000,)\n",
            "56000 (56000, 64, 64, 3) (56000,)\n",
            "58000 (58000, 64, 64, 3) (58000,)\n",
            "60000 (60000, 64, 64, 3) (60000,)\n",
            "The shape is : (60000, 64, 64, 3) (60000,)\n",
            "{'accuracy': 0.838, 'loss': 0.45904094, 'global_step': 3000}\n"
          ],
          "name": "stdout"
        },
        {
          "output_type": "display_data",
          "data": {
            "image/png": "[encoded data removed]",
            "text/plain": [
              "<Figure size 432x288 with 1 Axes>"
            ]
          },
          "metadata": {
            "tags": []
          }
        },
        {
          "output_type": "display_data",
          "data": {
            "image/png": "[encoded data removed]",
            "text/plain": [
              "<Figure size 432x288 with 1 Axes>"
            ]
          },
          "metadata": {
            "tags": []
          }
        }
      ]
    },
    {
      "cell_type": "code",
      "metadata": {
        "id": "TT7n0rY9POuB",
        "colab_type": "code",
        "colab": {
          "base_uri": "https://localhost:8080/",
          "height": 34
        },
        "outputId": "8ca5d35a-f9e5-4169-c247-d9e4d99a2e94"
      },
      "source": [
        "a = np.array([[[2,2],[2,2]],[[2,2],[2,2]],[[2,2],[2,2]]])\n",
        "b = np.array([[[2,2],[2,2]],[[2,2],[2,2]]])\n",
        "c = np.concatenate([a,b])\n",
        "print(a.shape,b.shape,c.shape)"
      ],
      "execution_count": 7,
      "outputs": [
        {
          "output_type": "stream",
          "text": [
            "(3, 2, 2) (2, 2, 2) (5, 2, 2)\n"
          ],
          "name": "stdout"
        }
      ]
    }
  ]
}