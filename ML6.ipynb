{
  "nbformat": 4,
  "nbformat_minor": 0,
  "metadata": {
    "colab": {
      "name": "ML6.ipynb",
      "version": "0.3.2",
      "provenance": [],
      "collapsed_sections": [],
      "include_colab_link": true
    },
    "kernelspec": {
      "name": "python3",
      "display_name": "Python 3"
    },
    "accelerator": "GPU"
  },
  "cells": [
    {
      "cell_type": "markdown",
      "metadata": {
        "id": "view-in-github",
        "colab_type": "text"
      },
      "source": [
        "<a href=\"https://colab.research.google.com/github/ramapriyakj/ML6/blob/master/ML6.ipynb\" target=\"_parent\"><img src=\"https://colab.research.google.com/assets/colab-badge.svg\" alt=\"Open In Colab\"/></a>"
      ]
    },
    {
      "cell_type": "code",
      "metadata": {
        "id": "oaJTyJKn1ur-",
        "colab_type": "code",
        "colab": {}
      },
      "source": [
        "from google.colab import drive\n",
        "drive.mount('/content/gdrive', force_remount=True)\n",
        "root_dir = \"/content/gdrive/My Drive/\"\n",
        "data_set_dir = root_dir + 'Colab Notebooks/dataset/data/'"
      ],
      "execution_count": 0,
      "outputs": []
    },
    {
      "cell_type": "code",
      "metadata": {
        "id": "LGXJZzKc2LzA",
        "colab_type": "code",
        "colab": {}
      },
      "source": [
        "import os\n",
        "import cv2\n",
        "import numpy as np\n",
        "def create_data_with_labels(image_dir):\n",
        "    mug_dirs = [f for f in os.listdir(image_dir) if not f.startswith('.')]\n",
        "    mug_files = []\n",
        "\n",
        "    for mug_dir in mug_dirs:\n",
        "        mug_image_files = [image_dir + mug_dir + '/' + '{0}'.format(f)\n",
        "                           for f in os.listdir(image_dir + mug_dir) if not f.startswith('.')]\n",
        "        mug_files += [mug_image_files]\n",
        "\n",
        "    num_images = len(mug_files[0])\n",
        "    images_np_arr = np.empty([len(mug_files), num_images, 64, 64, 3], dtype=np.float32)\n",
        "\n",
        "    for mug, _ in enumerate(mug_files):\n",
        "        for mug_image in range(num_images):\n",
        "            img = cv2.imread(mug_files[mug][mug_image])\n",
        "            img = cv2.cvtColor(img, cv2.COLOR_BGR2RGB)\n",
        "            img = img.astype(np.float32)\n",
        "            images_np_arr[mug][mug_image] = img / 255.\n",
        "\n",
        "    data = images_np_arr[0]\n",
        "    labels = np.full(num_images, int(mug_dirs[0][0]))\n",
        "\n",
        "    for i in range(1, len(mug_dirs)):\n",
        "        data = np.append(data, images_np_arr[i], axis=0)\n",
        "        labels = np.append(labels, np.full(num_images, int(mug_dirs[i][0])), axis=0)\n",
        "\n",
        "    return data, labels"
      ],
      "execution_count": 0,
      "outputs": []
    },
    {
      "cell_type": "code",
      "metadata": {
        "id": "P_alsuxp2NfH",
        "colab_type": "code",
        "colab": {}
      },
      "source": [
        "train_data, train_labels = create_data_with_labels(data_set_dir+\"train/\")\n",
        "eval_data, eval_labels = create_data_with_labels(data_set_dir+\"test/\")"
      ],
      "execution_count": 0,
      "outputs": []
    },
    {
      "cell_type": "code",
      "metadata": {
        "id": "dUdHs8e-3R7X",
        "colab_type": "code",
        "outputId": "8a28a214-20c4-4c9f-ba8a-0b4959e1b555",
        "colab": {
          "base_uri": "https://localhost:8080/",
          "height": 34
        }
      },
      "source": [
        "from keras.utils import np_utils\n",
        "train_y = np_utils.to_categorical(train_labels)\n",
        "eval_y = np_utils.to_categorical(eval_labels)\n",
        "print(train_data.shape,train_y.shape,eval_data.shape,eval_y.shape)"
      ],
      "execution_count": 0,
      "outputs": [
        {
          "output_type": "stream",
          "text": [
            "(2000, 64, 64, 3) (2000, 4) (1000, 64, 64, 3) (1000, 4)\n"
          ],
          "name": "stdout"
        }
      ]
    },
    {
      "cell_type": "code",
      "metadata": {
        "id": "H2p37uuX_Al2",
        "colab_type": "code",
        "outputId": "2a1f441c-16b0-46bb-e287-1f6827078b9a",
        "colab": {
          "base_uri": "https://localhost:8080/",
          "height": 1037
        }
      },
      "source": [
        "from keras import layers\n",
        "from keras import models\n",
        "from keras import optimizers\n",
        "def getModel():\n",
        "  model = models.Sequential()\n",
        "  model.add(layers.Conv2D(128, (3, 3),activation='relu',input_shape=(64, 64, 3))) \n",
        "  model.add(layers.Conv2D(128, (2, 2),activation='relu'))\n",
        "  model.add(layers.BatchNormalization())\n",
        "  model.add(layers.MaxPooling2D((2, 2)))\n",
        "  model.add(layers.Conv2D(64, (3, 3),activation='relu'))\n",
        "  model.add(layers.Conv2D(64, (2, 2),activation='relu'))\n",
        "  model.add(layers.BatchNormalization())\n",
        "  model.add(layers.MaxPooling2D((2, 2)))\n",
        "  model.add(layers.Conv2D(32, (3, 3),activation='relu'))\n",
        "  model.add(layers.Conv2D(32, (2, 2),activation='relu'))\n",
        "  model.add(layers.BatchNormalization())\n",
        "  model.add(layers.MaxPooling2D((2, 2)))\n",
        "  model.add(layers.Flatten())\n",
        "  model.add(layers.Dense(256,activation='relu'))\n",
        "  model.add(layers.BatchNormalization())\n",
        "  model.add(layers.Dropout(0.1))\n",
        "  model.add(layers.Dense(128,activation='relu'))\n",
        "  model.add(layers.BatchNormalization())\n",
        "  model.add(layers.Dropout(0.1))\n",
        "  model.add(layers.Dense(4, activation='softmax'))\n",
        "  model.compile(loss='categorical_crossentropy',optimizer=optimizers.RMSprop(2e-05),metrics=['acc'])\n",
        "  return model\n",
        "\n",
        "from keras.preprocessing.image import ImageDataGenerator\n",
        "model = getModel()\n",
        "train_datagen = ImageDataGenerator(width_shift_range=0.4,height_shift_range=0.3,shear_range=0.2,zoom_range=0.1,channel_shift_range=0.2,fill_mode='nearest')\n",
        "test_datagen = ImageDataGenerator()\n",
        "train_generator = train_datagen.flow(train_data,train_y,batch_size=20)\n",
        "validation_generator = test_datagen.flow(eval_data,eval_y,batch_size=20)\n",
        "history = model.fit_generator(train_generator,steps_per_epoch=100,epochs=30,validation_data=validation_generator,validation_steps=50)"
      ],
      "execution_count": 0,
      "outputs": [
        {
          "output_type": "stream",
          "text": [
            "Epoch 1/30\n",
            "100/100 [==============================] - 19s 195ms/step - loss: 1.7458 - acc: 0.3220 - val_loss: 1.8430 - val_acc: 0.3100\n",
            "Epoch 2/30\n",
            "100/100 [==============================] - 7s 74ms/step - loss: 1.4423 - acc: 0.4380 - val_loss: 1.3501 - val_acc: 0.4250\n",
            "Epoch 3/30\n",
            "100/100 [==============================] - 7s 73ms/step - loss: 1.3005 - acc: 0.4775 - val_loss: 0.9539 - val_acc: 0.6020\n",
            "Epoch 4/30\n",
            "100/100 [==============================] - 7s 73ms/step - loss: 1.0823 - acc: 0.5760 - val_loss: 0.8944 - val_acc: 0.6360\n",
            "Epoch 5/30\n",
            "100/100 [==============================] - 7s 73ms/step - loss: 0.9713 - acc: 0.6280 - val_loss: 0.9059 - val_acc: 0.6340\n",
            "Epoch 6/30\n",
            "100/100 [==============================] - 7s 71ms/step - loss: 0.8502 - acc: 0.6765 - val_loss: 0.6995 - val_acc: 0.7190\n",
            "Epoch 7/30\n",
            "100/100 [==============================] - 7s 72ms/step - loss: 0.7634 - acc: 0.7050 - val_loss: 0.6017 - val_acc: 0.7740\n",
            "Epoch 8/30\n",
            "100/100 [==============================] - 7s 73ms/step - loss: 0.6657 - acc: 0.7490 - val_loss: 0.9263 - val_acc: 0.6390\n",
            "Epoch 9/30\n",
            "100/100 [==============================] - 7s 72ms/step - loss: 0.5832 - acc: 0.7940 - val_loss: 0.5207 - val_acc: 0.8010\n",
            "Epoch 10/30\n",
            "100/100 [==============================] - 7s 71ms/step - loss: 0.5354 - acc: 0.8090 - val_loss: 0.5222 - val_acc: 0.7700\n",
            "Epoch 11/30\n",
            "100/100 [==============================] - 7s 71ms/step - loss: 0.4909 - acc: 0.8220 - val_loss: 0.6037 - val_acc: 0.7510\n",
            "Epoch 12/30\n",
            "100/100 [==============================] - 7s 72ms/step - loss: 0.4239 - acc: 0.8560 - val_loss: 0.4587 - val_acc: 0.8030\n",
            "Epoch 13/30\n",
            "100/100 [==============================] - 7s 72ms/step - loss: 0.3843 - acc: 0.8645 - val_loss: 0.3655 - val_acc: 0.8740\n",
            "Epoch 14/30\n",
            "100/100 [==============================] - 7s 71ms/step - loss: 0.3598 - acc: 0.8855 - val_loss: 0.4262 - val_acc: 0.8350\n",
            "Epoch 15/30\n",
            "100/100 [==============================] - 7s 71ms/step - loss: 0.3143 - acc: 0.8960 - val_loss: 0.3000 - val_acc: 0.8890\n",
            "Epoch 16/30\n",
            "100/100 [==============================] - 7s 71ms/step - loss: 0.2854 - acc: 0.9095 - val_loss: 0.3275 - val_acc: 0.8740\n",
            "Epoch 17/30\n",
            "100/100 [==============================] - 7s 71ms/step - loss: 0.2868 - acc: 0.9140 - val_loss: 0.3245 - val_acc: 0.8810\n",
            "Epoch 18/30\n",
            "100/100 [==============================] - 7s 71ms/step - loss: 0.2596 - acc: 0.9155 - val_loss: 0.4249 - val_acc: 0.8500\n",
            "Epoch 19/30\n",
            "100/100 [==============================] - 7s 71ms/step - loss: 0.2619 - acc: 0.9170 - val_loss: 0.3918 - val_acc: 0.8380\n",
            "Epoch 20/30\n",
            "100/100 [==============================] - 7s 71ms/step - loss: 0.2440 - acc: 0.9170 - val_loss: 0.4143 - val_acc: 0.8200\n",
            "Epoch 21/30\n",
            "100/100 [==============================] - 7s 71ms/step - loss: 0.2026 - acc: 0.9370 - val_loss: 0.4107 - val_acc: 0.8380\n",
            "Epoch 22/30\n",
            "100/100 [==============================] - 7s 71ms/step - loss: 0.1925 - acc: 0.9350 - val_loss: 0.3471 - val_acc: 0.8700\n",
            "Epoch 23/30\n",
            "100/100 [==============================] - 7s 72ms/step - loss: 0.1663 - acc: 0.9510 - val_loss: 0.3563 - val_acc: 0.8960\n",
            "Epoch 24/30\n",
            "100/100 [==============================] - 7s 75ms/step - loss: 0.1546 - acc: 0.9540 - val_loss: 0.4340 - val_acc: 0.8260\n",
            "Epoch 25/30\n",
            "100/100 [==============================] - 7s 74ms/step - loss: 0.1607 - acc: 0.9515 - val_loss: 0.3246 - val_acc: 0.8730\n",
            "Epoch 26/30\n",
            "100/100 [==============================] - 7s 74ms/step - loss: 0.1428 - acc: 0.9595 - val_loss: 0.4343 - val_acc: 0.8310\n",
            "Epoch 27/30\n",
            "100/100 [==============================] - 7s 74ms/step - loss: 0.1558 - acc: 0.9545 - val_loss: 0.3910 - val_acc: 0.8450\n",
            "Epoch 28/30\n",
            "100/100 [==============================] - 7s 73ms/step - loss: 0.1329 - acc: 0.9605 - val_loss: 0.4093 - val_acc: 0.8250\n",
            "Epoch 29/30\n",
            "100/100 [==============================] - 7s 73ms/step - loss: 0.1341 - acc: 0.9610 - val_loss: 0.4271 - val_acc: 0.8310\n",
            "Epoch 30/30\n",
            "100/100 [==============================] - 7s 74ms/step - loss: 0.1062 - acc: 0.9735 - val_loss: 0.3138 - val_acc: 0.8960\n"
          ],
          "name": "stdout"
        }
      ]
    },
    {
      "cell_type": "code",
      "metadata": {
        "id": "P1G718vLBfvF",
        "colab_type": "code",
        "outputId": "a9884cae-3ae0-491b-988a-1def1b4ad34e",
        "colab": {
          "base_uri": "https://localhost:8080/",
          "height": 545
        }
      },
      "source": [
        "import matplotlib.pyplot as plt\n",
        "acc = history.history['acc']\n",
        "val_acc = history.history['val_acc']\n",
        "loss = history.history['loss']\n",
        "val_loss = history.history['val_loss']\n",
        "epochs = range(1, len(acc) + 1)\n",
        "plt.plot(epochs, acc, 'bo', label='Training acc')\n",
        "plt.plot(epochs, val_acc, 'b', label='Validation acc')\n",
        "plt.title('Training and validation accuracy')\n",
        "plt.legend()\n",
        "plt.figure()\n",
        "plt.plot(epochs, loss, 'bo', label='Training loss')\n",
        "plt.plot(epochs, val_loss, 'b', label='Validation loss')\n",
        "plt.title('Training and validation loss')\n",
        "plt.legend()\n",
        "plt.show()"
      ],
      "execution_count": 0,
      "outputs": [
        {
          "output_type": "display_data",
          "data": {
            "image/png": "[encoded data removed]",
            "text/plain": [
              "<Figure size 432x288 with 1 Axes>"
            ]
          },
          "metadata": {
            "tags": []
          }
        },
        {
          "output_type": "display_data",
          "data": {
            "image/png": "[encoded data removed]",
            "text/plain": [
              "<Figure size 432x288 with 1 Axes>"
            ]
          },
          "metadata": {
            "tags": []
          }
        }
      ]
    }
  ]
}